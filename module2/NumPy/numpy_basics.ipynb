{
  "nbformat": 4,
  "nbformat_minor": 0,
  "metadata": {
    "colab": {
      "provenance": []
    },
    "kernelspec": {
      "name": "python3",
      "display_name": "Python 3"
    },
    "language_info": {
      "name": "python"
    }
  },
  "cells": [
    {
      "cell_type": "markdown",
      "source": [
        "Numpy - Numerical Python\n",
        "\n",
        "Advantages of Numpy Arrays:\n",
        "\n",
        "1.   Allows several Mathematical Operation\n",
        "2.   Faster Operations\n",
        "\n",
        "\n",
        "\n",
        "    "
      ],
      "metadata": {
        "id": "Ir4qk81V--GJ"
      }
    },
    {
      "cell_type": "code",
      "execution_count": 2,
      "metadata": {
        "id": "Yidx5G9BsVrn"
      },
      "outputs": [],
      "source": [
        "import numpy as np"
      ]
    },
    {
      "cell_type": "markdown",
      "source": [
        "#List vs Numpy - Time Taken\n"
      ],
      "metadata": {
        "id": "yo5TH4jsAa2R"
      }
    },
    {
      "cell_type": "code",
      "source": [
        "from time import process_time"
      ],
      "metadata": {
        "id": "0gOjPNhX_uGG"
      },
      "execution_count": 3,
      "outputs": []
    },
    {
      "cell_type": "markdown",
      "source": [
        "Time taken by list"
      ],
      "metadata": {
        "id": "fXjNi-XxAm6r"
      }
    },
    {
      "cell_type": "code",
      "source": [
        "list1 = [i for i in range(1000000)]\n",
        "\n",
        "start_time = process_time()\n",
        "\n",
        "list2 = [i+10 for i in list1]\n",
        "\n",
        "total_time = process_time() - start_time\n",
        "\n",
        "print(total_time)"
      ],
      "metadata": {
        "colab": {
          "base_uri": "https://localhost:8080/"
        },
        "id": "YBoloPlkAhNT",
        "outputId": "fe952278-9f08-4989-cce6-e617df7d1906"
      },
      "execution_count": 4,
      "outputs": [
        {
          "output_type": "stream",
          "name": "stdout",
          "text": [
            "0.07390037999999999\n"
          ]
        }
      ]
    },
    {
      "cell_type": "code",
      "source": [
        "np_array = np.array([i for i in range(1000000)])\n",
        "\n",
        "start_time = process_time()\n",
        "\n",
        "np_array += 5\n",
        "\n",
        "total_time = process_time() - start_time\n",
        "\n",
        "print(total_time)"
      ],
      "metadata": {
        "colab": {
          "base_uri": "https://localhost:8080/"
        },
        "id": "PKHxVWZmA1kk",
        "outputId": "a4617042-f850-4301-982b-63081a310457"
      },
      "execution_count": 5,
      "outputs": [
        {
          "output_type": "stream",
          "name": "stdout",
          "text": [
            "0.0013347790000000082\n"
          ]
        }
      ]
    },
    {
      "cell_type": "markdown",
      "source": [
        "#Numpy Arrays"
      ],
      "metadata": {
        "id": "Sk4Rv0-FCFjA"
      }
    },
    {
      "cell_type": "code",
      "source": [
        "# list\n",
        "list1 = [1, 2, 3, 4, 5]\n",
        "print(list1)\n",
        "type(list1)"
      ],
      "metadata": {
        "colab": {
          "base_uri": "https://localhost:8080/"
        },
        "id": "irWjvH-MBfJJ",
        "outputId": "27e70748-5f53-41ab-fc1e-4cea15601d38"
      },
      "execution_count": 8,
      "outputs": [
        {
          "output_type": "stream",
          "name": "stdout",
          "text": [
            "[1, 2, 3, 4, 5]\n"
          ]
        },
        {
          "output_type": "execute_result",
          "data": {
            "text/plain": [
              "list"
            ]
          },
          "metadata": {},
          "execution_count": 8
        }
      ]
    },
    {
      "cell_type": "code",
      "source": [
        "# numpy\n",
        "arr1 = np.array([1, 2, 3, 4, 5])\n",
        "print(arr1)\n",
        "type(arr1)"
      ],
      "metadata": {
        "colab": {
          "base_uri": "https://localhost:8080/"
        },
        "id": "svq-w3qMCUlt",
        "outputId": "d42003a4-06f6-4a8f-aa37-985bba51ea5c"
      },
      "execution_count": 51,
      "outputs": [
        {
          "output_type": "stream",
          "name": "stdout",
          "text": [
            "[1 2 3 4 5]\n"
          ]
        },
        {
          "output_type": "execute_result",
          "data": {
            "text/plain": [
              "numpy.ndarray"
            ]
          },
          "metadata": {},
          "execution_count": 51
        }
      ]
    },
    {
      "cell_type": "code",
      "source": [
        "arr1.shape"
      ],
      "metadata": {
        "colab": {
          "base_uri": "https://localhost:8080/"
        },
        "id": "gKQEwrpCCsAy",
        "outputId": "92ab17fc-1d43-401f-c71a-185db4b08dea"
      },
      "execution_count": 14,
      "outputs": [
        {
          "output_type": "execute_result",
          "data": {
            "text/plain": [
              "(5,)"
            ]
          },
          "metadata": {},
          "execution_count": 14
        }
      ]
    },
    {
      "cell_type": "code",
      "source": [
        "arr2 = np.array([[1,2,3,4],[5,6,7,8]])\n",
        "print(arr2)\n",
        "type(arr2)"
      ],
      "metadata": {
        "colab": {
          "base_uri": "https://localhost:8080/"
        },
        "id": "ccMxWtBxC6DD",
        "outputId": "75bcf171-b5bb-4d6c-efd6-67b0bc688bd9"
      },
      "execution_count": 15,
      "outputs": [
        {
          "output_type": "stream",
          "name": "stdout",
          "text": [
            "[[1 2 3 4]\n",
            " [5 6 7 8]]\n"
          ]
        },
        {
          "output_type": "execute_result",
          "data": {
            "text/plain": [
              "numpy.ndarray"
            ]
          },
          "metadata": {},
          "execution_count": 15
        }
      ]
    },
    {
      "cell_type": "markdown",
      "source": [
        "#Initial placeholders in numpy arrays"
      ],
      "metadata": {
        "id": "OFPhgg4nDunQ"
      }
    },
    {
      "cell_type": "code",
      "source": [
        "# array of zeros\n",
        "arr = np.zeros((4,4))\n",
        "print(arr)"
      ],
      "metadata": {
        "colab": {
          "base_uri": "https://localhost:8080/"
        },
        "id": "hiRR7xX_DOeN",
        "outputId": "fed4c5e9-4cf7-4774-dc56-200979372353"
      },
      "execution_count": 40,
      "outputs": [
        {
          "output_type": "stream",
          "name": "stdout",
          "text": [
            "[[0. 0. 0. 0.]\n",
            " [0. 0. 0. 0.]\n",
            " [0. 0. 0. 0.]\n",
            " [0. 0. 0. 0.]]\n"
          ]
        }
      ]
    },
    {
      "cell_type": "code",
      "source": [
        "# array of ones\n",
        "arr = np.ones((3,5))\n",
        "print(arr)"
      ],
      "metadata": {
        "colab": {
          "base_uri": "https://localhost:8080/"
        },
        "id": "jn0QoHg0D4nh",
        "outputId": "1672b902-7d89-4830-9b41-d12e6582744c"
      },
      "execution_count": 41,
      "outputs": [
        {
          "output_type": "stream",
          "name": "stdout",
          "text": [
            "[[1. 1. 1. 1. 1.]\n",
            " [1. 1. 1. 1. 1.]\n",
            " [1. 1. 1. 1. 1.]]\n"
          ]
        }
      ]
    },
    {
      "cell_type": "code",
      "source": [
        "# array of identity matrix, which means all the diagnal values should be 1\n",
        "arr = np.eye(3)\n",
        "print(arr)"
      ],
      "metadata": {
        "colab": {
          "base_uri": "https://localhost:8080/"
        },
        "id": "bZXsWRtFEBKQ",
        "outputId": "71e9b541-24d1-4bd9-b4ca-3d0e124e0840"
      },
      "execution_count": 42,
      "outputs": [
        {
          "output_type": "stream",
          "name": "stdout",
          "text": [
            "[[1. 0. 0.]\n",
            " [0. 1. 0.]\n",
            " [0. 0. 1.]]\n"
          ]
        }
      ]
    },
    {
      "cell_type": "code",
      "source": [
        "# array of particular values\n",
        "arr = np.full((3, 4), 8)\n",
        "print(arr)"
      ],
      "metadata": {
        "colab": {
          "base_uri": "https://localhost:8080/"
        },
        "id": "4GoF_itiESY-",
        "outputId": "3e842150-688c-40e1-b35f-369c22a9c441"
      },
      "execution_count": 43,
      "outputs": [
        {
          "output_type": "stream",
          "name": "stdout",
          "text": [
            "[[8 8 8 8]\n",
            " [8 8 8 8]\n",
            " [8 8 8 8]]\n"
          ]
        }
      ]
    },
    {
      "cell_type": "code",
      "source": [
        "# array of random values\n",
        "arr = np.random.random((3, 4))\n",
        "print(arr)"
      ],
      "metadata": {
        "colab": {
          "base_uri": "https://localhost:8080/"
        },
        "id": "46tl9LhNEnGY",
        "outputId": "2345a17b-ef59-4296-91bb-db453259dfce"
      },
      "execution_count": 44,
      "outputs": [
        {
          "output_type": "stream",
          "name": "stdout",
          "text": [
            "[[0.08800313 0.38969159 0.06507128 0.71842788]\n",
            " [0.49457641 0.96729074 0.84908272 0.1233977 ]\n",
            " [0.45125947 0.71750713 0.30986147 0.6035261 ]]\n"
          ]
        }
      ]
    },
    {
      "cell_type": "code",
      "source": [
        "# array of random values of integers\n",
        "arr = np.random.randint(0, 10, (3, 4))\n",
        "print(arr)"
      ],
      "metadata": {
        "colab": {
          "base_uri": "https://localhost:8080/"
        },
        "id": "TknE7IfIFM0J",
        "outputId": "cb2f3465-1132-4dc7-ca60-9d75649974f0"
      },
      "execution_count": 45,
      "outputs": [
        {
          "output_type": "stream",
          "name": "stdout",
          "text": [
            "[[9 1 8 8]\n",
            " [3 7 3 6]\n",
            " [1 2 3 9]]\n"
          ]
        }
      ]
    },
    {
      "cell_type": "code",
      "source": [
        "# array of evenly spaced values with specifying the number of values\n",
        "arr = np.linspace(8, 30, 5)\n",
        "print(arr)"
      ],
      "metadata": {
        "colab": {
          "base_uri": "https://localhost:8080/"
        },
        "id": "LhyUyJBUFY8G",
        "outputId": "51de3071-c928-400b-ea86-e329d3750474"
      },
      "execution_count": 49,
      "outputs": [
        {
          "output_type": "stream",
          "name": "stdout",
          "text": [
            "[ 8.  13.5 19.  24.5 30. ]\n"
          ]
        }
      ]
    },
    {
      "cell_type": "code",
      "source": [
        "# array of evenly spaced values with specifying the steps\n",
        "arr = np.arange(10, 30, 5)\n",
        "print(arr)"
      ],
      "metadata": {
        "colab": {
          "base_uri": "https://localhost:8080/"
        },
        "id": "dv1uFblBF7fb",
        "outputId": "85067ffe-cb91-4b4c-f4e8-137befa995f0"
      },
      "execution_count": 47,
      "outputs": [
        {
          "output_type": "stream",
          "name": "stdout",
          "text": [
            "[10 15 20 25]\n"
          ]
        }
      ]
    },
    {
      "cell_type": "code",
      "source": [
        "# convert a list or tuple to numpy array\n",
        "list1 = [8, 10, 12, 27, 28, 30]\n",
        "\n",
        "arr = np.asarray(list1)\n",
        "print(arr)\n",
        "print(type(arr))"
      ],
      "metadata": {
        "colab": {
          "base_uri": "https://localhost:8080/"
        },
        "id": "jiGgtsLVGloB",
        "outputId": "b8480994-c9ae-4960-c66b-f5044cf9af1c"
      },
      "execution_count": 54,
      "outputs": [
        {
          "output_type": "stream",
          "name": "stdout",
          "text": [
            "[ 8 10 12 27 28 30]\n",
            "<class 'numpy.ndarray'>\n"
          ]
        }
      ]
    },
    {
      "cell_type": "markdown",
      "source": [
        "#Analysing a numpy array"
      ],
      "metadata": {
        "id": "VWsWDGqqHj0L"
      }
    },
    {
      "cell_type": "code",
      "source": [
        "arr = np.random.randint(8, 100, (4, 5))\n",
        "\n",
        "print(arr)"
      ],
      "metadata": {
        "colab": {
          "base_uri": "https://localhost:8080/"
        },
        "id": "IdexwlLQHn3n",
        "outputId": "e9b5224a-d399-4d7c-81e9-282159af9aca"
      },
      "execution_count": 85,
      "outputs": [
        {
          "output_type": "stream",
          "name": "stdout",
          "text": [
            "[[81 31 79 96 96]\n",
            " [81 28 58 93 49]\n",
            " [59 57 39 96 71]\n",
            " [80 72 48 89 73]]\n"
          ]
        }
      ]
    },
    {
      "cell_type": "code",
      "source": [
        "# transporse an array\n",
        "print(arr.T)"
      ],
      "metadata": {
        "colab": {
          "base_uri": "https://localhost:8080/"
        },
        "id": "9gsbBqoNJYqF",
        "outputId": "6acf024d-bd2d-440d-c652-20f6046e3575"
      },
      "execution_count": 86,
      "outputs": [
        {
          "output_type": "stream",
          "name": "stdout",
          "text": [
            "[[81 81 59 80]\n",
            " [31 28 57 72]\n",
            " [79 58 39 48]\n",
            " [96 93 96 89]\n",
            " [96 49 71 73]]\n"
          ]
        }
      ]
    },
    {
      "cell_type": "code",
      "source": [
        "# get datatype of an array\n",
        "print(arr.dtype)"
      ],
      "metadata": {
        "colab": {
          "base_uri": "https://localhost:8080/"
        },
        "id": "sOaEgbdQH-IG",
        "outputId": "3549e309-461c-4760-dc49-4b3576fcf1ca"
      },
      "execution_count": 60,
      "outputs": [
        {
          "output_type": "stream",
          "name": "stdout",
          "text": [
            "int64\n"
          ]
        }
      ]
    },
    {
      "cell_type": "code",
      "source": [
        "# array dimension (shape)\n",
        "print(arr.shape)"
      ],
      "metadata": {
        "colab": {
          "base_uri": "https://localhost:8080/"
        },
        "id": "ZS49WAsZIiSj",
        "outputId": "9c72f3e9-6f53-43af-e18b-d30ed6c39265"
      },
      "execution_count": 62,
      "outputs": [
        {
          "output_type": "stream",
          "name": "stdout",
          "text": [
            "(4, 5)\n"
          ]
        }
      ]
    },
    {
      "cell_type": "code",
      "source": [
        "# number of dimension\n",
        "print(arr.ndim)"
      ],
      "metadata": {
        "colab": {
          "base_uri": "https://localhost:8080/"
        },
        "id": "sUxXZ65_Io4B",
        "outputId": "3cb958b3-bfe5-4f17-aab8-1585395e2ec6"
      },
      "execution_count": 63,
      "outputs": [
        {
          "output_type": "stream",
          "name": "stdout",
          "text": [
            "2\n"
          ]
        }
      ]
    },
    {
      "cell_type": "code",
      "source": [
        "\n",
        "print(arr.itemsize)"
      ],
      "metadata": {
        "colab": {
          "base_uri": "https://localhost:8080/"
        },
        "id": "E4rcDDUwI40A",
        "outputId": "d2efa96f-b793-4725-fe2b-d6c60bf3fd40"
      },
      "execution_count": 64,
      "outputs": [
        {
          "output_type": "stream",
          "name": "stdout",
          "text": [
            "8\n"
          ]
        }
      ]
    },
    {
      "cell_type": "code",
      "source": [
        "# total size of an array\n",
        "print(arr.size)"
      ],
      "metadata": {
        "colab": {
          "base_uri": "https://localhost:8080/"
        },
        "id": "r2U5g8ZPI9DZ",
        "outputId": "ad64deb1-2279-4a0b-d5e3-241d1ac0570e"
      },
      "execution_count": 65,
      "outputs": [
        {
          "output_type": "stream",
          "name": "stdout",
          "text": [
            "20\n"
          ]
        }
      ]
    },
    {
      "cell_type": "code",
      "source": [
        "# flattening the whole array\n",
        "print(arr.flatten())"
      ],
      "metadata": {
        "colab": {
          "base_uri": "https://localhost:8080/"
        },
        "id": "3LvMUfm-JAgy",
        "outputId": "9ce2d526-5dc0-4e9a-8fd1-9d38296c5756"
      },
      "execution_count": 68,
      "outputs": [
        {
          "output_type": "stream",
          "name": "stdout",
          "text": [
            "[90 58 25 66 54 73 20 11 27 46 99 95 25 32 13  8 25 27 48 17]\n"
          ]
        }
      ]
    },
    {
      "cell_type": "code",
      "source": [
        "# reshaping an array dimension\n",
        "print(arr.reshape((2, 10)))"
      ],
      "metadata": {
        "colab": {
          "base_uri": "https://localhost:8080/"
        },
        "id": "WpZUBy-MJR0u",
        "outputId": "d3b15bf6-4200-4cdd-cec4-8422999f7911"
      },
      "execution_count": 70,
      "outputs": [
        {
          "output_type": "stream",
          "name": "stdout",
          "text": [
            "[[90 58 25 66 54 73 20 11 27 46]\n",
            " [99 95 25 32 13  8 25 27 48 17]]\n"
          ]
        }
      ]
    },
    {
      "cell_type": "markdown",
      "source": [
        "#Arithmetic Operations in numpy array"
      ],
      "metadata": {
        "id": "CAoOFB5FJzEq"
      }
    },
    {
      "cell_type": "code",
      "source": [
        "a = np.random.randint(10, 20, (3,3))\n",
        "b = np.random.randint(20, 30, (3,3))\n",
        "print(a)\n",
        "print(b)"
      ],
      "metadata": {
        "colab": {
          "base_uri": "https://localhost:8080/"
        },
        "id": "JpcU_B5uKASh",
        "outputId": "e41a0310-48ec-48be-93cc-ffc06c08e304"
      },
      "execution_count": 71,
      "outputs": [
        {
          "output_type": "stream",
          "name": "stdout",
          "text": [
            "[[19 14 19]\n",
            " [12 11 10]\n",
            " [15 18 16]]\n",
            "[[24 21 26]\n",
            " [20 22 23]\n",
            " [29 23 28]]\n"
          ]
        }
      ]
    },
    {
      "cell_type": "markdown",
      "source": [
        "Using +, -, *, /, //\n"
      ],
      "metadata": {
        "id": "lsvvvPS-Kvpz"
      }
    },
    {
      "cell_type": "code",
      "source": [
        "print(a+b)\n",
        "print(a-b)\n",
        "print(a*b)\n",
        "print(a/b)\n",
        "print(a//b)"
      ],
      "metadata": {
        "colab": {
          "base_uri": "https://localhost:8080/"
        },
        "id": "350aX4NmKTZO",
        "outputId": "6b01dec1-73d1-4b3e-cb66-95d1fc2c9677"
      },
      "execution_count": 72,
      "outputs": [
        {
          "output_type": "stream",
          "name": "stdout",
          "text": [
            "[[43 35 45]\n",
            " [32 33 33]\n",
            " [44 41 44]]\n",
            "[[ -5  -7  -7]\n",
            " [ -8 -11 -13]\n",
            " [-14  -5 -12]]\n",
            "[[456 294 494]\n",
            " [240 242 230]\n",
            " [435 414 448]]\n",
            "[[0.79166667 0.66666667 0.73076923]\n",
            " [0.6        0.5        0.43478261]\n",
            " [0.51724138 0.7826087  0.57142857]]\n",
            "[[0 0 0]\n",
            " [0 0 0]\n",
            " [0 0 0]]\n"
          ]
        }
      ]
    },
    {
      "cell_type": "markdown",
      "source": [
        "Using inbuild functions of numpy\n"
      ],
      "metadata": {
        "id": "FVETTWsaK3SQ"
      }
    },
    {
      "cell_type": "code",
      "source": [
        "print(np.add(a,b))\n",
        "print(np.subtract(a,b))\n",
        "print(np.multiply(a,b))\n",
        "print(np.divide(a,b))"
      ],
      "metadata": {
        "colab": {
          "base_uri": "https://localhost:8080/"
        },
        "id": "NwaLZ7QZKZ2V",
        "outputId": "cbbb54a8-9fa1-48d0-810c-5ddd20289639"
      },
      "execution_count": 77,
      "outputs": [
        {
          "output_type": "stream",
          "name": "stdout",
          "text": [
            "[[43 35 45]\n",
            " [32 33 33]\n",
            " [44 41 44]]\n",
            "[[ -5  -7  -7]\n",
            " [ -8 -11 -13]\n",
            " [-14  -5 -12]]\n",
            "[[456 294 494]\n",
            " [240 242 230]\n",
            " [435 414 448]]\n",
            "[[0.79166667 0.66666667 0.73076923]\n",
            " [0.6        0.5        0.43478261]\n",
            " [0.51724138 0.7826087  0.57142857]]\n"
          ]
        }
      ]
    },
    {
      "cell_type": "markdown",
      "source": [
        "#Array Manipulation"
      ],
      "metadata": {
        "id": "36SiocjQLIKi"
      }
    },
    {
      "cell_type": "code",
      "source": [
        "arr = np.random.randint(0, 10, (2,3))\n",
        "print(arr)\n",
        "print(arr.shape)"
      ],
      "metadata": {
        "colab": {
          "base_uri": "https://localhost:8080/"
        },
        "id": "Fcf-KtjpLKZy",
        "outputId": "1fd710f0-195d-40c6-82cb-a7de1699ed99"
      },
      "execution_count": 87,
      "outputs": [
        {
          "output_type": "stream",
          "name": "stdout",
          "text": [
            "[[3 8 0]\n",
            " [9 8 6]]\n",
            "(2, 3)\n"
          ]
        }
      ]
    },
    {
      "cell_type": "code",
      "source": [
        "trans = np.transpose(arr)\n",
        "print(trans)\n",
        "print(trans.shape)\n"
      ],
      "metadata": {
        "colab": {
          "base_uri": "https://localhost:8080/"
        },
        "id": "ktxpC-NaLQ_v",
        "outputId": "4742b9be-1158-44bb-be67-58d710d3cbb8"
      },
      "execution_count": 88,
      "outputs": [
        {
          "output_type": "stream",
          "name": "stdout",
          "text": [
            "[[3 9]\n",
            " [8 8]\n",
            " [0 6]]\n",
            "(3, 2)\n"
          ]
        }
      ]
    },
    {
      "cell_type": "code",
      "source": [
        "print(arr.T)"
      ],
      "metadata": {
        "colab": {
          "base_uri": "https://localhost:8080/"
        },
        "id": "iJ8Lc0t8LfUj",
        "outputId": "dbf14a56-c6c5-4cbe-8635-da673ebb5014"
      },
      "execution_count": 89,
      "outputs": [
        {
          "output_type": "stream",
          "name": "stdout",
          "text": [
            "[[3 9]\n",
            " [8 8]\n",
            " [0 6]]\n"
          ]
        }
      ]
    },
    {
      "cell_type": "code",
      "source": [],
      "metadata": {
        "id": "IjOpv-GALvno"
      },
      "execution_count": null,
      "outputs": []
    }
  ]
}