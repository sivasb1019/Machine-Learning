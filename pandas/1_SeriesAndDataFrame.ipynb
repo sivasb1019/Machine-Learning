{
 "cells": [
  {
   "cell_type": "markdown",
   "metadata": {},
   "source": [
    "## Pandas Tutorial\n",
    "\n",
    "Pandas is an open source, BSD-licensed library providing high-performance, easy-to-use data structures and data analysis tools for the Python programming language."
   ]
  },
{
 "cells": [
  {
   "cell_type": "code",
   "execution_count": null,
   "id": "3ebcfd96-c38f-4f64-bd66-2a50bf286c3a",
   "metadata": {},
   "outputs": [],
   "source": [
    "# Dimensionality:\n",
    "# Series: 1-dimensional (single column or row).\n",
    "# DataFrame: 2-dimensional (multiple columns and rows).\n",
    "\n",
    "# Usage:\n",
    "# Series: Used for storing and manipulating a single list of data. Often used for a single column of data in a DataFrame.\n",
    "# DataFrame: Used for storing and manipulating multiple columns of data in a tabular format."
   ]
  },
  {
   "cell_type": "code",
   "execution_count": 3,
   "id": "7f3aece9-54ed-4840-921e-2e85698edbf9",
   "metadata": {},
   "outputs": [],
   "source": [
    "import pandas as pd\n",
    "import numpy as np"
   ]
  },
  {
   "cell_type": "code",
   "execution_count": 30,
   "id": "1181e004-e15c-441a-bb5e-45850eeb266a",
   "metadata": {},
   "outputs": [
    {
     "data": {
      "text/plain": [
       "SB    10\n",
       "LS    27\n",
       "LL    18\n",
       "IV    19\n",
       "SV     8\n",
       "dtype: int64"
      ]
     },
     "execution_count": 30,
     "metadata": {},
     "output_type": "execute_result"
    }
   ],
   "source": [
    "# Creating Series with a list of marks as data and names as index\n",
    "marks = [10,27,18,19,8]\n",
    "names = [\"SB\", \"LS\", \"LL\", \"IV\", \"SV\"]\n",
    "df = pd.Series(marks, names)\n",
    "df"
   ]
  },
  {
   "cell_type": "code",
   "execution_count": 31,
   "id": "3351d9ae-7d92-4d8c-87ae-9ef038863b5d",
   "metadata": {},
   "outputs": [
    {
     "data": {
      "text/plain": [
       "Index(['SB', 'LS', 'LL', 'IV', 'SV'], dtype='object')"
      ]
     },
     "execution_count": 31,
     "metadata": {},
     "output_type": "execute_result"
    }
   ],
   "source": [
    "# To get the df indexes\n",
    "df.index"
   ]
  },
  {
   "cell_type": "code",
   "execution_count": 27,
   "id": "f7dc4c5b-e6d4-4be0-94b4-62e2c7fa84c8",
   "metadata": {},
   "outputs": [
    {
     "data": {
      "text/plain": [
       "array([10, 27, 18, 19,  8])"
      ]
     },
     "execution_count": 27,
     "metadata": {},
     "output_type": "execute_result"
    }
   ],
   "source": [
    "# Convert Series or DataFrame into an array\n",
    "df.values"
   ]
  },
  {
   "cell_type": "code",
   "execution_count": 40,
   "id": "19ed228c-7ef3-44cc-8f28-3ccad0be7ae9",
   "metadata": {},
   "outputs": [
    {
     "data": {
      "text/plain": [
       "LS    27\n",
       "IV    19\n",
       "LL    18\n",
       "SB    10\n",
       "SV     8\n",
       "dtype: int64"
      ]
     },
     "execution_count": 40,
     "metadata": {},
     "output_type": "execute_result"
    }
   ],
   "source": [
    "# To sort the df, by default it will sort by ascending order\n",
    "# To sort in descending order, df.sort_values(ascending=False)\n",
    "df.sort_values(ascending=False)"
   ]
  },
  {
   "cell_type": "code",
   "execution_count": 41,
   "id": "6fc89eb9-c4a9-4e93-9c23-b74be8f71a17",
   "metadata": {},
   "outputs": [
    {
     "data": {
      "text/plain": [
       "IV    19\n",
       "LL    18\n",
       "LS    27\n",
       "SB    10\n",
       "SV     8\n",
       "dtype: int64"
      ]
     },
     "execution_count": 41,
     "metadata": {},
     "output_type": "execute_result"
    }
   ],
   "source": [
    "# To sort the index values, by default it will sort by ascending order\n",
    "df.sort_index()"
   ]
  },
  {
   "cell_type": "code",
   "execution_count": 4,
   "id": "7df1ee5e-2a02-4c6b-977c-a9fad5774cda",
   "metadata": {},
   "outputs": [
    {
     "data": {
      "text/plain": [
       "{'Cars': ['Benz', 'Audi', 'Porsche'], 'Year': [27, 10, 19]}"
      ]
     },
     "execution_count": 4,
     "metadata": {},
     "output_type": "execute_result"
    }
   ],
   "source": [
    "dict1 = {\"Cars\":[\"Benz\",\"Audi\",\"Porsche\"], \"Year\":[27,10,19]}\n",
    "dict1"
   ]
  },
  {
   "cell_type": "code",
   "execution_count": 5,
   "id": "a26b2486-53d0-49db-886a-a25b79f7d70b",
   "metadata": {},
   "outputs": [
    {
     "data": {
      "text/html": [
       "<div>\n",
       "<style scoped>\n",
       "    .dataframe tbody tr th:only-of-type {\n",
       "        vertical-align: middle;\n",
       "    }\n",
       "\n",
       "    .dataframe tbody tr th {\n",
       "        vertical-align: top;\n",
       "    }\n",
       "\n",
       "    .dataframe thead th {\n",
       "        text-align: right;\n",
       "    }\n",
       "</style>\n",
       "<table border=\"1\" class=\"dataframe\">\n",
       "  <thead>\n",
       "    <tr style=\"text-align: right;\">\n",
       "      <th></th>\n",
       "      <th>Cars</th>\n",
       "      <th>Year</th>\n",
       "    </tr>\n",
       "  </thead>\n",
       "  <tbody>\n",
       "    <tr>\n",
       "      <th>1</th>\n",
       "      <td>Benz</td>\n",
       "      <td>27</td>\n",
       "    </tr>\n",
       "    <tr>\n",
       "      <th>2</th>\n",
       "      <td>Audi</td>\n",
       "      <td>10</td>\n",
       "    </tr>\n",
       "    <tr>\n",
       "      <th>3</th>\n",
       "      <td>Porsche</td>\n",
       "      <td>19</td>\n",
       "    </tr>\n",
       "  </tbody>\n",
       "</table>\n",
       "</div>"
      ],
      "text/plain": [
       "      Cars  Year\n",
       "1     Benz    27\n",
       "2     Audi    10\n",
       "3  Porsche    19"
      ]
     },
     "execution_count": 5,
     "metadata": {},
     "output_type": "execute_result"
    }
   ],
   "source": [
    "# Converting dictionary into DataFrame using Pandas\n",
    "df = pd.DataFrame(dict1, index=[1, 2, 3])\n",
    "df"
   ]
  },
  {
   "cell_type": "code",
   "execution_count": 43,
   "id": "cdb651a2-3fc4-4530-a6b8-55933fdb034a",
   "metadata": {},
   "outputs": [
    {
     "data": {
      "text/html": [
       "<div>\n",
       "<style scoped>\n",
       "    .dataframe tbody tr th:only-of-type {\n",
       "        vertical-align: middle;\n",
       "    }\n",
       "\n",
       "    .dataframe tbody tr th {\n",
       "        vertical-align: top;\n",
       "    }\n",
       "\n",
       "    .dataframe thead th {\n",
       "        text-align: right;\n",
       "    }\n",
       "</style>\n",
       "<table border=\"1\" class=\"dataframe\">\n",
       "  <thead>\n",
       "    <tr style=\"text-align: right;\">\n",
       "      <th></th>\n",
       "      <th>c1</th>\n",
       "      <th>c2</th>\n",
       "    </tr>\n",
       "  </thead>\n",
       "  <tbody>\n",
       "    <tr>\n",
       "      <th>r1</th>\n",
       "      <td>0</td>\n",
       "      <td>1</td>\n",
       "    </tr>\n",
       "    <tr>\n",
       "      <th>r2</th>\n",
       "      <td>2</td>\n",
       "      <td>3</td>\n",
       "    </tr>\n",
       "    <tr>\n",
       "      <th>r3</th>\n",
       "      <td>4</td>\n",
       "      <td>5</td>\n",
       "    </tr>\n",
       "    <tr>\n",
       "      <th>r4</th>\n",
       "      <td>6</td>\n",
       "      <td>7</td>\n",
       "    </tr>\n",
       "    <tr>\n",
       "      <th>r5</th>\n",
       "      <td>8</td>\n",
       "      <td>9</td>\n",
       "    </tr>\n",
       "  </tbody>\n",
       "</table>\n",
       "</div>"
      ],
      "text/plain": [
       "    c1  c2\n",
       "r1   0   1\n",
       "r2   2   3\n",
       "r3   4   5\n",
       "r4   6   7\n",
       "r5   8   9"
      ]
     },
     "execution_count": 43,
     "metadata": {},
     "output_type": "execute_result"
    }
   ],
   "source": [
    "# Using numpy to create a DataFrame \n",
    "df = pd.DataFrame(np.arange(0,10).reshape(5,2), index=[\"r1\", \"r2\", \"r3\", \"r4\", \"r5\"], columns=[\"c1\", \"c2\"])\n",
    "df"
   ]
  },
  {
   "cell_type": "code",
   "execution_count": 7,
   "id": "9f0e467a-127b-4956-865a-c9f79e0b4615",
   "metadata": {},
   "outputs": [],
   "source": [
    "# To convert the DataFrame to csv file\n",
    "df.to_csv(\"eg.csv\")\n"
   ]
  },
  {
   "cell_type": "code",
   "execution_count": 22,
   "id": "35c81e57-41cc-4d60-9e1e-97cd75ecab9f",
   "metadata": {},
   "outputs": [
    {
     "data": {
      "text/html": [
       "<div>\n",
       "<style scoped>\n",
       "    .dataframe tbody tr th:only-of-type {\n",
       "        vertical-align: middle;\n",
       "    }\n",
       "\n",
       "    .dataframe tbody tr th {\n",
       "        vertical-align: top;\n",
       "    }\n",
       "\n",
       "    .dataframe thead th {\n",
       "        text-align: right;\n",
       "    }\n",
       "</style>\n",
       "<table border=\"1\" class=\"dataframe\">\n",
       "  <thead>\n",
       "    <tr style=\"text-align: right;\">\n",
       "      <th></th>\n",
       "      <th>c1</th>\n",
       "      <th>c2</th>\n",
       "    </tr>\n",
       "  </thead>\n",
       "  <tbody>\n",
       "    <tr>\n",
       "      <th>r1</th>\n",
       "      <td>0</td>\n",
       "      <td>1</td>\n",
       "    </tr>\n",
       "    <tr>\n",
       "      <th>r2</th>\n",
       "      <td>2</td>\n",
       "      <td>3</td>\n",
       "    </tr>\n",
       "  </tbody>\n",
       "</table>\n",
       "</div>"
      ],
      "text/plain": [
       "    c1  c2\n",
       "r1   0   1\n",
       "r2   2   3"
      ]
     },
     "execution_count": 22,
     "metadata": {},
     "output_type": "execute_result"
    }
   ],
   "source": [
    "# Accessing the elements\n",
    "# 1. loc - is used for label-based indexing. It allows you to access data by specifying the index labels or column names.\n",
    "# Syntax: df.loc[row_labels, column_labels]\n",
    "df.loc[[\"r1\", \"r2\"]]"
   ]
  },
  {
   "cell_type": "code",
   "execution_count": 23,
   "id": "72b44102-32e6-4169-8c90-aa587828ca30",
   "metadata": {},
   "outputs": [
    {
     "data": {
      "text/html": [
       "<div>\n",
       "<style scoped>\n",
       "    .dataframe tbody tr th:only-of-type {\n",
       "        vertical-align: middle;\n",
       "    }\n",
       "\n",
       "    .dataframe tbody tr th {\n",
       "        vertical-align: top;\n",
       "    }\n",
       "\n",
       "    .dataframe thead th {\n",
       "        text-align: right;\n",
       "    }\n",
       "</style>\n",
       "<table border=\"1\" class=\"dataframe\">\n",
       "  <thead>\n",
       "    <tr style=\"text-align: right;\">\n",
       "      <th></th>\n",
       "      <th>c1</th>\n",
       "      <th>c2</th>\n",
       "    </tr>\n",
       "  </thead>\n",
       "  <tbody>\n",
       "    <tr>\n",
       "      <th>r1</th>\n",
       "      <td>0</td>\n",
       "      <td>1</td>\n",
       "    </tr>\n",
       "    <tr>\n",
       "      <th>r2</th>\n",
       "      <td>2</td>\n",
       "      <td>3</td>\n",
       "    </tr>\n",
       "    <tr>\n",
       "      <th>r3</th>\n",
       "      <td>4</td>\n",
       "      <td>5</td>\n",
       "    </tr>\n",
       "  </tbody>\n",
       "</table>\n",
       "</div>"
      ],
      "text/plain": [
       "    c1  c2\n",
       "r1   0   1\n",
       "r2   2   3\n",
       "r3   4   5"
      ]
     },
     "execution_count": 23,
     "metadata": {},
     "output_type": "execute_result"
    }
   ],
   "source": [
    "# 2. iloc - s used for integer-location based indexing. It allows you to access data by specifying integer positions or indices.\n",
    "# Syntax: df.iloc[row_indices, column_indices]\n",
    "df.iloc[0:3, :]"
   ]
  },
  {
   "cell_type": "code",
   "execution_count": 44,
   "id": "36567ab4-b163-40ff-b719-2148908b9c21",
   "metadata": {},
   "outputs": [
    {
     "data": {
      "text/plain": [
       "array([[0, 1],\n",
       "       [2, 3],\n",
       "       [4, 5],\n",
       "       [6, 7],\n",
       "       [8, 9]])"
      ]
     },
     "execution_count": 44,
     "metadata": {},
     "output_type": "execute_result"
    }
   ],
   "source": [
    "# Convert Series or DataFrame into an array\n",
    "df.values\n"
   ]
  },
  {
   "cell_type": "code",
   "execution_count": 47,
   "id": "d24241d6-f589-46d2-bedb-325ece9279f6",
   "metadata": {},
   "outputs": [
    {
     "data": {
      "text/plain": [
       "c1    0\n",
       "c2    0\n",
       "dtype: int64"
      ]
     },
     "execution_count": 47,
     "metadata": {},
     "output_type": "execute_result"
    }
   ],
   "source": [
    "# To find number of null values in the columns\n",
    "df.isnull().sum() "
   ]
  },
  {
   "cell_type": "code",
   "execution_count": 52,
   "id": "2eaaea5d-285d-40a1-a4d5-46711b3e45f6",
   "metadata": {},
   "outputs": [
    {
     "data": {
      "text/plain": [
       "c1\n",
       "0    1\n",
       "2    1\n",
       "4    1\n",
       "6    1\n",
       "8    1\n",
       "Name: count, dtype: int64"
      ]
     },
     "execution_count": 52,
     "metadata": {},
     "output_type": "execute_result"
    }
   ],
   "source": [
    "# To find number of times a value is present in the column\n",
    "df[\"c1\"].value_counts()"
   ]
  },
  {
   "cell_type": "code",
   "execution_count": 53,
   "id": "70aacdc5-6f82-4c6c-ba13-0a86f89b6d26",
   "metadata": {},
   "outputs": [
    {
     "data": {
      "text/plain": [
       "array([0, 2, 4, 6, 8])"
      ]
     },
     "execution_count": 53,
     "metadata": {},
     "output_type": "execute_result"
    }
   ],
   "source": [
    "# To find unique values present in the column\n",
    "df[\"c1\"].unique()"
   ]
  },
  {
   "cell_type": "code",
   "execution_count": 59,
   "id": "6084da2b-5fae-4f3f-90ad-0dfd8157c8b3",
   "metadata": {},
   "outputs": [],
   "source": [
    "# Reading a csv file\n",
    "df = pd.read_csv(\"Sample500.csv\")"
   ]
  },
  {
   "cell_type": "code",
   "execution_count": 67,
   "id": "6a7bc121-536f-4a02-baa9-ddac579c637a",
   "metadata": {},
   "outputs": [
    {
     "data": {
      "text/html": [
       "<div>\n",
       "<style scoped>\n",
       "    .dataframe tbody tr th:only-of-type {\n",
       "        vertical-align: middle;\n",
       "    }\n",
       "\n",
       "    .dataframe tbody tr th {\n",
       "        vertical-align: top;\n",
       "    }\n",
       "\n",
       "    .dataframe thead th {\n",
       "        text-align: right;\n",
       "    }\n",
       "</style>\n",
       "<table border=\"1\" class=\"dataframe\">\n",
       "  <thead>\n",
       "    <tr style=\"text-align: right;\">\n",
       "      <th></th>\n",
       "      <th>Serial Number</th>\n",
       "      <th>Company Name</th>\n",
       "      <th>Employee</th>\n",
       "      <th>Description</th>\n",
       "      <th>Leave</th>\n",
       "      <th>Value</th>\n",
       "      <th>Sex</th>\n",
       "    </tr>\n",
       "  </thead>\n",
       "  <tbody>\n",
       "    <tr>\n",
       "      <th>0</th>\n",
       "      <td>9.790000e+12</td>\n",
       "      <td>TALES OF SHIVA</td>\n",
       "      <td>Mark</td>\n",
       "      <td>mark</td>\n",
       "      <td>0</td>\n",
       "      <td>13215</td>\n",
       "      <td>Male</td>\n",
       "    </tr>\n",
       "    <tr>\n",
       "      <th>1</th>\n",
       "      <td>9.780000e+12</td>\n",
       "      <td>1Q84 THE COMPLETE TRILOGY</td>\n",
       "      <td>HARUKI MURAKAMI</td>\n",
       "      <td>Mark</td>\n",
       "      <td>0</td>\n",
       "      <td>3405</td>\n",
       "      <td>Female</td>\n",
       "    </tr>\n",
       "    <tr>\n",
       "      <th>2</th>\n",
       "      <td>9.780000e+12</td>\n",
       "      <td>MY KUMAN</td>\n",
       "      <td>Mark</td>\n",
       "      <td>Mark</td>\n",
       "      <td>0</td>\n",
       "      <td>978</td>\n",
       "      <td>Male</td>\n",
       "    </tr>\n",
       "    <tr>\n",
       "      <th>3</th>\n",
       "      <td>9.780000e+12</td>\n",
       "      <td>THE GOD OF SMAAL THINGS</td>\n",
       "      <td>ARUNDHATI ROY</td>\n",
       "      <td>4TH HARPER COLLINS</td>\n",
       "      <td>2</td>\n",
       "      <td>687</td>\n",
       "      <td>Male</td>\n",
       "    </tr>\n",
       "    <tr>\n",
       "      <th>4</th>\n",
       "      <td>9.780000e+12</td>\n",
       "      <td>THE BLACK CIRCLE</td>\n",
       "      <td>Mark</td>\n",
       "      <td>4TH HARPER COLLINS</td>\n",
       "      <td>0</td>\n",
       "      <td>1974</td>\n",
       "      <td>Male</td>\n",
       "    </tr>\n",
       "  </tbody>\n",
       "</table>\n",
       "</div>"
      ],
      "text/plain": [
       "   Serial Number               Company Name         Employee  \\\n",
       "0   9.790000e+12             TALES OF SHIVA             Mark   \n",
       "1   9.780000e+12  1Q84 THE COMPLETE TRILOGY  HARUKI MURAKAMI   \n",
       "2   9.780000e+12                   MY KUMAN             Mark   \n",
       "3   9.780000e+12    THE GOD OF SMAAL THINGS    ARUNDHATI ROY   \n",
       "4   9.780000e+12           THE BLACK CIRCLE             Mark   \n",
       "\n",
       "          Description  Leave  Value     Sex  \n",
       "0                mark      0  13215    Male  \n",
       "1                Mark      0   3405  Female  \n",
       "2                Mark      0    978    Male  \n",
       "3  4TH HARPER COLLINS      2    687    Male  \n",
       "4  4TH HARPER COLLINS      0   1974    Male  "
      ]
     },
     "execution_count": 67,
     "metadata": {},
     "output_type": "execute_result"
    }
   ],
   "source": [
    "# To get 1st five rows of a csv file. Use head(n=10) for get an n number of rows\n",
    "df.head() #df.head(n=20)"
   ]
  },
  {
   "cell_type": "code",
   "execution_count": 68,
   "id": "fa7c7c14-e76e-4076-a597-a04a9f61b29b",
   "metadata": {},
   "outputs": [
    {
     "data": {
      "text/plain": [
       "Serial Number    0\n",
       "Company Name     0\n",
       "Employee         5\n",
       "Description      0\n",
       "Leave            0\n",
       "Value            0\n",
       "Sex              0\n",
       "dtype: int64"
      ]
     },
     "execution_count": 68,
     "metadata": {},
     "output_type": "execute_result"
    }
   ],
   "source": [
    "# To find number of null values in the columns\n",
    "df.isnull().sum() "
   ]
  },
  {
   "cell_type": "code",
   "execution_count": null,
   "id": "a9ee3bdb-066b-49d6-8c71-bc2619adfce7",
   "metadata": {},
   "outputs": [],
   "source": []
  }
 ],
 "metadata": {
  "kernelspec": {
   "display_name": "Python 3 (ipykernel)",
   "language": "python",
   "name": "python3"
  },
  "language_info": {
   "codemirror_mode": {
    "name": "ipython",
    "version": 3
   },
   "file_extension": ".py",
   "mimetype": "text/x-python",
   "name": "python",
   "nbconvert_exporter": "python",
   "pygments_lexer": "ipython3",
   "version": "3.12.4"
  }
 },
 "nbformat": 4,
 "nbformat_minor": 5
}
